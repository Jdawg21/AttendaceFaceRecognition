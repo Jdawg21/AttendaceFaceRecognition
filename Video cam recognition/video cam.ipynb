{
 "cells": [
  {
   "cell_type": "code",
   "execution_count": 1,
   "metadata": {},
   "outputs": [],
   "source": [
    "import cv2\n",
    "import numpy as np\n",
    "import face_recognition\n",
    "import os\n",
    "from datetime import datetime\n",
    "from datetime import date\n",
    "import pandas as pd\n",
    "import time"
   ]
  },
  {
   "cell_type": "code",
   "execution_count": 2,
   "metadata": {},
   "outputs": [
    {
     "name": "stdout",
     "output_type": "stream",
     "text": [
      "['209006Josh.jpg', '209070Kobe.jpg', '209071Messi.jpg', '209072Ronaldo.jpg']\n"
     ]
    }
   ],
   "source": [
    "path = 'ImagesAttendance'\n",
    "images = []\n",
    "classNames = []\n",
    "myList = os.listdir(path)\n",
    "myList.pop(0)\n",
    "print(myList)"
   ]
  },
  {
   "cell_type": "code",
   "execution_count": 3,
   "metadata": {},
   "outputs": [
    {
     "name": "stdout",
     "output_type": "stream",
     "text": [
      "['209006Josh', '209070Kobe', '209071Messi', '209072Ronaldo']\n"
     ]
    }
   ],
   "source": [
    "for cls in myList:\n",
    "    currentImg = cv2.imread(f'{path}/{cls}')\n",
    "    images.append(currentImg)\n",
    "    classNames.append(os.path.splitext(cls)[0])\n",
    "\n",
    "print(classNames)"
   ]
  },
  {
   "cell_type": "code",
   "execution_count": 4,
   "metadata": {},
   "outputs": [
    {
     "name": "stdout",
     "output_type": "stream",
     "text": [
      "Encoding complete\n"
     ]
    }
   ],
   "source": [
    "encodeList = []\n",
    "for img in images:\n",
    "    img = cv2.cvtColor(img, cv2.COLOR_BGR2RGB)\n",
    "    encode = face_recognition.face_encodings(img)[0]\n",
    "    encodeList.append(encode)\n",
    "\n",
    "    \n",
    "encodeListKnown = encodeList\n",
    "print(\"Encoding complete\")"
   ]
  },
  {
   "cell_type": "code",
   "execution_count": 5,
   "metadata": {},
   "outputs": [],
   "source": [
    "def markAttendance(name):\n",
    "    with open(\"attendance face recog.csv\", 'r+') as f:\n",
    "        myDataList = f.readlines()\n",
    "        nameList = []\n",
    "        for line in myDataList:\n",
    "            entry = line.split(',')\n",
    "            nameList.append(entry[0])\n",
    "        if name not in nameList:\n",
    "            now = datetime.now()\n",
    "            dateString  = now.strftime('%H:%M:%S')\n",
    "            f.writelines(f'\\n{name},{dateString}')\n",
    "            \n",
    "   "
   ]
  },
  {
   "cell_type": "code",
   "execution_count": 6,
   "metadata": {},
   "outputs": [],
   "source": [
    "def markMaster():\n",
    "    df = pd.read_csv(\"attendance face recog.csv\")\n",
    "    df = df['Name'].str.extract('([^a-zA-Z]+)([a-zA-Z]+)', expand=True)\n",
    "    df.columns = ['UID', 'Name']\n",
    "    now = datetime.now()\n",
    "    today = now.strftime(\"%d %B,%Y : %H:%M\")\n",
    "    df[today] = 'p'\n",
    "    df = df.drop(['Name'], axis=1)\n",
    "    df['UID'] = pd.to_numeric(df['UID'])\n",
    "    master = pd.read_csv('master.csv')\n",
    "    master['UID'] = pd.to_numeric(master['UID'])\n",
    "    merge = pd.merge(master, df, on=\"UID\", how = \"outer\")\n",
    "    merge[today] = merge[today].fillna('a')\n",
    "    merge.to_csv('master.csv', index = False)\n",
    "    temp = pd.read_csv(\"attendance face recog.csv\")\n",
    "    df_empty = temp[0:0]\n",
    "    df_empty.to_csv(\"attendance face recog.csv\", index=False)"
   ]
  },
  {
   "cell_type": "code",
   "execution_count": 7,
   "metadata": {},
   "outputs": [],
   "source": [
    "capture_duration = 20\n",
    "cap = cv2.VideoCapture(0)"
   ]
  },
  {
   "cell_type": "code",
   "execution_count": 8,
   "metadata": {
    "scrolled": true
   },
   "outputs": [],
   "source": [
    "start_time = time.time()\n",
    "while( int(time.time() - start_time) < capture_duration ):\n",
    "    success, img = cap.read()\n",
    "    imgS = cv2.resize(img, (0,0), None, 0.25,0.25)\n",
    "    imgS = cv2.cvtColor(imgS, cv2.COLOR_BGR2RGB)\n",
    "    \n",
    "    facesCurrentFrame = face_recognition.face_locations(imgS)\n",
    "    encodeCurrentFrame = face_recognition.face_encodings(imgS, facesCurrentFrame)\n",
    "    \n",
    "    for encodeFace, faceLoc in zip(encodeCurrentFrame, facesCurrentFrame):\n",
    "        matches = face_recognition.compare_faces(encodeListKnown, encodeFace)\n",
    "        faceDistance = face_recognition.face_distance(encodeListKnown, encodeFace)\n",
    "        #print(faceDistance)\n",
    "        matchIndex = np.argmin(faceDistance)\n",
    "        \n",
    "        if matches[matchIndex]:\n",
    "            name = classNames[matchIndex].upper()\n",
    "            #print(name)\n",
    "            y1,x2,y2,x1 = faceLoc\n",
    "            y1,x2,y2,x1 = y1*4,x2*4,y2*4,x1*4\n",
    "            cv2.rectangle(img, (x1,y1),(x2,y2),(0,255,0),2)\n",
    "            cv2.rectangle(img, (x1,y2-35),(x2,y2),(0,255,0),cv2.FILLED)\n",
    "            cv2.putText(img, name, (x1+6, y2-6), cv2.FONT_HERSHEY_COMPLEX,1,(255,255,255),2)\n",
    "            markAttendance(name)\n",
    "    \n",
    "       \n",
    "    \n",
    "    \n",
    "    \n",
    "    cv2.imshow('Webcam', img)\n",
    "    c = cv2.waitKey(1)\n",
    "    if c == 27:\n",
    "        break\n",
    "\n",
    "cap.release()\n",
    "cv2.destroyAllWindows()\n",
    "markMaster()"
   ]
  },
  {
   "cell_type": "code",
   "execution_count": null,
   "metadata": {},
   "outputs": [],
   "source": []
  },
  {
   "cell_type": "code",
   "execution_count": 9,
   "metadata": {},
   "outputs": [],
   "source": [
    "#temp = pd.read_csv(\"temp.csv\")\n",
    "#names = [x for x in temp.columns]\n",
    "#df = pd.DataFrame(columns=names)"
   ]
  },
  {
   "cell_type": "code",
   "execution_count": 10,
   "metadata": {},
   "outputs": [],
   "source": [
    "#df.to_csv(\"temp1.csv\",index = False)"
   ]
  },
  {
   "cell_type": "code",
   "execution_count": 11,
   "metadata": {},
   "outputs": [],
   "source": [
    "#df_empty = temp[0:0]\n",
    "#df_empty.to_csv(\"empty\", index=False)"
   ]
  },
  {
   "cell_type": "code",
   "execution_count": null,
   "metadata": {},
   "outputs": [],
   "source": []
  }
 ],
 "metadata": {
  "kernelspec": {
   "display_name": "Python 3",
   "language": "python",
   "name": "python3"
  },
  "language_info": {
   "codemirror_mode": {
    "name": "ipython",
    "version": 3
   },
   "file_extension": ".py",
   "mimetype": "text/x-python",
   "name": "python",
   "nbconvert_exporter": "python",
   "pygments_lexer": "ipython3",
   "version": "3.7.9"
  }
 },
 "nbformat": 4,
 "nbformat_minor": 4
}
